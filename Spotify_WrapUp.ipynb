{
  "nbformat": 4,
  "nbformat_minor": 0,
  "metadata": {
    "colab": {
      "provenance": [],
      "authorship_tag": "ABX9TyMkKZP8hla/Qo9EJN1qkoTM",
      "include_colab_link": true
    },
    "kernelspec": {
      "name": "python3",
      "display_name": "Python 3"
    },
    "language_info": {
      "name": "python"
    }
  },
  "cells": [
    {
      "cell_type": "markdown",
      "metadata": {
        "id": "view-in-github",
        "colab_type": "text"
      },
      "source": [
        "<a href=\"https://colab.research.google.com/github/MissSamyuktha/SpotifyWrapUp-Data-Analysis/blob/main/Spotify_WrapUp.ipynb\" target=\"_parent\"><img src=\"https://colab.research.google.com/assets/colab-badge.svg\" alt=\"Open In Colab\"/></a>"
      ]
    },
    {
      "cell_type": "code",
      "execution_count": 1,
      "metadata": {
        "colab": {
          "base_uri": "https://localhost:8080/"
        },
        "id": "W0_7Vxf7WrVS",
        "outputId": "2847e77c-eadc-4f18-930a-79a34be7e652"
      },
      "outputs": [
        {
          "output_type": "stream",
          "name": "stdout",
          "text": [
            "Drive already mounted at /content/drive; to attempt to forcibly remount, call drive.mount(\"/content/drive\", force_remount=True).\n"
          ]
        }
      ],
      "source": [
        "from google.colab import drive\n",
        "drive.mount('/content/drive')"
      ]
    },
    {
      "cell_type": "code",
      "source": [
        "!ls /content/drive/MyDrive/SpotifyWrapUpProject/spotify_history.csv"
      ],
      "metadata": {
        "colab": {
          "base_uri": "https://localhost:8080/"
        },
        "id": "NIb_O-10XMG0",
        "outputId": "ea06d540-d666-4858-bce7-0a30672a7225"
      },
      "execution_count": 2,
      "outputs": [
        {
          "output_type": "stream",
          "name": "stdout",
          "text": [
            "/content/drive/MyDrive/SpotifyWrapUpProject/spotify_history.csv\n"
          ]
        }
      ]
    },
    {
      "cell_type": "markdown",
      "source": [
        "# ***Data Preprocessing ***\n",
        "Data cleaning by dropping duplicates, filling missing values, formatting text by removing leading and trailing whitespaces, same uppercase, lowercase format, unique values.\n"
      ],
      "metadata": {
        "id": "qGZiMuLqAJUz"
      }
    },
    {
      "cell_type": "code",
      "source": [
        "import pandas as pd\n",
        "df = pd.read_csv('/content/drive/MyDrive/SpotifyWrapUpProject/spotify_history.csv')"
      ],
      "metadata": {
        "id": "L2XUFM7yYwzA"
      },
      "execution_count": 5,
      "outputs": []
    },
    {
      "cell_type": "code",
      "source": [
        "import numpy as np\n",
        "import matplotlib.pyplot as plt\n",
        "import seaborn as sns"
      ],
      "metadata": {
        "id": "APAFUNruMc3i"
      },
      "execution_count": 6,
      "outputs": []
    },
    {
      "cell_type": "code",
      "source": [
        "#Understand data\n",
        "#df.head()"
      ],
      "metadata": {
        "id": "Wes_JYygZBKk"
      },
      "execution_count": 149,
      "outputs": []
    },
    {
      "cell_type": "code",
      "source": [
        "#df.info()"
      ],
      "metadata": {
        "id": "9meaEsEdZUqk"
      },
      "execution_count": 150,
      "outputs": []
    },
    {
      "cell_type": "code",
      "source": [
        "df['album_name'].nunique()"
      ],
      "metadata": {
        "colab": {
          "base_uri": "https://localhost:8080/"
        },
        "id": "y4srQDoIzUvE",
        "outputId": "b2149e13-4dea-471c-9f23-605494f4c57d"
      },
      "execution_count": 9,
      "outputs": [
        {
          "output_type": "execute_result",
          "data": {
            "text/plain": [
              "7948"
            ]
          },
          "metadata": {},
          "execution_count": 9
        }
      ]
    },
    {
      "cell_type": "code",
      "source": [
        "df['artist_name'].nunique()"
      ],
      "metadata": {
        "colab": {
          "base_uri": "https://localhost:8080/"
        },
        "id": "KHcVfglaz5JN",
        "outputId": "48c73b4e-bf6b-4cd5-9276-dbde24dba03a"
      },
      "execution_count": 10,
      "outputs": [
        {
          "output_type": "execute_result",
          "data": {
            "text/plain": [
              "4113"
            ]
          },
          "metadata": {},
          "execution_count": 10
        }
      ]
    },
    {
      "cell_type": "code",
      "source": [
        "df['track_name'].nunique()"
      ],
      "metadata": {
        "colab": {
          "base_uri": "https://localhost:8080/"
        },
        "id": "DZ6HH1scz7vM",
        "outputId": "2bdb627c-32da-476b-8cbf-a7f6b863438c"
      },
      "execution_count": 11,
      "outputs": [
        {
          "output_type": "execute_result",
          "data": {
            "text/plain": [
              "13839"
            ]
          },
          "metadata": {},
          "execution_count": 11
        }
      ]
    },
    {
      "cell_type": "code",
      "source": [
        "df.duplicated().sum()"
      ],
      "metadata": {
        "colab": {
          "base_uri": "https://localhost:8080/"
        },
        "id": "akb-J1xqauvI",
        "outputId": "38574e05-cdbe-438c-8954-2f99d84d522b"
      },
      "execution_count": 12,
      "outputs": [
        {
          "output_type": "execute_result",
          "data": {
            "text/plain": [
              "1185"
            ]
          },
          "metadata": {},
          "execution_count": 12
        }
      ]
    },
    {
      "cell_type": "code",
      "source": [
        "#drop duplicates\n",
        "df.drop_duplicates(inplace = True)"
      ],
      "metadata": {
        "id": "GoQYNYZobO3d"
      },
      "execution_count": 13,
      "outputs": []
    },
    {
      "cell_type": "code",
      "source": [
        "#df.info()"
      ],
      "metadata": {
        "id": "eOJpa1fCbWnl"
      },
      "execution_count": 151,
      "outputs": []
    },
    {
      "cell_type": "code",
      "source": [
        "#quick glance of rows with missing values\n",
        "df1 = df[df.isna().any(axis=1)]\n",
        "df1.head()"
      ],
      "metadata": {
        "colab": {
          "base_uri": "https://localhost:8080/",
          "height": 206
        },
        "id": "C0RXKlHLfss4",
        "outputId": "928387ca-2e21-4df0-a001-42a9c1926ecc"
      },
      "execution_count": 15,
      "outputs": [
        {
          "output_type": "execute_result",
          "data": {
            "text/plain": [
              "          spotify_track_uri                   ts platform  ms_played  \\\n",
              "577  0Cng3O0fIHllQx3S78RvmL  2015-08-12 02:26:11      iOS     283466   \n",
              "596  4VSg5K1hnbmIg4PwRdY6wV  2015-08-12 05:03:15      iOS      40681   \n",
              "597  1NA2NvAgCB4EfcBC8OHfuj  2015-08-12 05:07:44      iOS     268173   \n",
              "605  2YuyaXVPEDnuO3cFuQ3BTW  2015-08-12 05:23:23      iOS      41145   \n",
              "606  4YfMIrgiCbzo4td18hwwvA  2015-08-12 05:24:10      iOS      46997   \n",
              "\n",
              "         track_name        artist_name        album_name reason_start  \\\n",
              "577       From Eden             Hozier            Hozier          NaN   \n",
              "596  Shades Of Cool       Lana Del Rey     Ultraviolence    trackdone   \n",
              "597      Staying Up  The Neighbourhood       I Love You.          NaN   \n",
              "605        El Karma        Noel Torres        La Balanza    trackdone   \n",
              "606      Tentándome         Juan Magán  The King Is Back          NaN   \n",
              "\n",
              "    reason_end  shuffle  skipped  \n",
              "577  trackdone    False    False  \n",
              "596        NaN    False     True  \n",
              "597  trackdone    False    False  \n",
              "605        NaN    False     True  \n",
              "606    endplay    False     True  "
            ],
            "text/html": [
              "\n",
              "  <div id=\"df-a43ef176-ac39-4a6b-8e4b-dd34e70a3549\" class=\"colab-df-container\">\n",
              "    <div>\n",
              "<style scoped>\n",
              "    .dataframe tbody tr th:only-of-type {\n",
              "        vertical-align: middle;\n",
              "    }\n",
              "\n",
              "    .dataframe tbody tr th {\n",
              "        vertical-align: top;\n",
              "    }\n",
              "\n",
              "    .dataframe thead th {\n",
              "        text-align: right;\n",
              "    }\n",
              "</style>\n",
              "<table border=\"1\" class=\"dataframe\">\n",
              "  <thead>\n",
              "    <tr style=\"text-align: right;\">\n",
              "      <th></th>\n",
              "      <th>spotify_track_uri</th>\n",
              "      <th>ts</th>\n",
              "      <th>platform</th>\n",
              "      <th>ms_played</th>\n",
              "      <th>track_name</th>\n",
              "      <th>artist_name</th>\n",
              "      <th>album_name</th>\n",
              "      <th>reason_start</th>\n",
              "      <th>reason_end</th>\n",
              "      <th>shuffle</th>\n",
              "      <th>skipped</th>\n",
              "    </tr>\n",
              "  </thead>\n",
              "  <tbody>\n",
              "    <tr>\n",
              "      <th>577</th>\n",
              "      <td>0Cng3O0fIHllQx3S78RvmL</td>\n",
              "      <td>2015-08-12 02:26:11</td>\n",
              "      <td>iOS</td>\n",
              "      <td>283466</td>\n",
              "      <td>From Eden</td>\n",
              "      <td>Hozier</td>\n",
              "      <td>Hozier</td>\n",
              "      <td>NaN</td>\n",
              "      <td>trackdone</td>\n",
              "      <td>False</td>\n",
              "      <td>False</td>\n",
              "    </tr>\n",
              "    <tr>\n",
              "      <th>596</th>\n",
              "      <td>4VSg5K1hnbmIg4PwRdY6wV</td>\n",
              "      <td>2015-08-12 05:03:15</td>\n",
              "      <td>iOS</td>\n",
              "      <td>40681</td>\n",
              "      <td>Shades Of Cool</td>\n",
              "      <td>Lana Del Rey</td>\n",
              "      <td>Ultraviolence</td>\n",
              "      <td>trackdone</td>\n",
              "      <td>NaN</td>\n",
              "      <td>False</td>\n",
              "      <td>True</td>\n",
              "    </tr>\n",
              "    <tr>\n",
              "      <th>597</th>\n",
              "      <td>1NA2NvAgCB4EfcBC8OHfuj</td>\n",
              "      <td>2015-08-12 05:07:44</td>\n",
              "      <td>iOS</td>\n",
              "      <td>268173</td>\n",
              "      <td>Staying Up</td>\n",
              "      <td>The Neighbourhood</td>\n",
              "      <td>I Love You.</td>\n",
              "      <td>NaN</td>\n",
              "      <td>trackdone</td>\n",
              "      <td>False</td>\n",
              "      <td>False</td>\n",
              "    </tr>\n",
              "    <tr>\n",
              "      <th>605</th>\n",
              "      <td>2YuyaXVPEDnuO3cFuQ3BTW</td>\n",
              "      <td>2015-08-12 05:23:23</td>\n",
              "      <td>iOS</td>\n",
              "      <td>41145</td>\n",
              "      <td>El Karma</td>\n",
              "      <td>Noel Torres</td>\n",
              "      <td>La Balanza</td>\n",
              "      <td>trackdone</td>\n",
              "      <td>NaN</td>\n",
              "      <td>False</td>\n",
              "      <td>True</td>\n",
              "    </tr>\n",
              "    <tr>\n",
              "      <th>606</th>\n",
              "      <td>4YfMIrgiCbzo4td18hwwvA</td>\n",
              "      <td>2015-08-12 05:24:10</td>\n",
              "      <td>iOS</td>\n",
              "      <td>46997</td>\n",
              "      <td>Tentándome</td>\n",
              "      <td>Juan Magán</td>\n",
              "      <td>The King Is Back</td>\n",
              "      <td>NaN</td>\n",
              "      <td>endplay</td>\n",
              "      <td>False</td>\n",
              "      <td>True</td>\n",
              "    </tr>\n",
              "  </tbody>\n",
              "</table>\n",
              "</div>\n",
              "    <div class=\"colab-df-buttons\">\n",
              "\n",
              "  <div class=\"colab-df-container\">\n",
              "    <button class=\"colab-df-convert\" onclick=\"convertToInteractive('df-a43ef176-ac39-4a6b-8e4b-dd34e70a3549')\"\n",
              "            title=\"Convert this dataframe to an interactive table.\"\n",
              "            style=\"display:none;\">\n",
              "\n",
              "  <svg xmlns=\"http://www.w3.org/2000/svg\" height=\"24px\" viewBox=\"0 -960 960 960\">\n",
              "    <path d=\"M120-120v-720h720v720H120Zm60-500h600v-160H180v160Zm220 220h160v-160H400v160Zm0 220h160v-160H400v160ZM180-400h160v-160H180v160Zm440 0h160v-160H620v160ZM180-180h160v-160H180v160Zm440 0h160v-160H620v160Z\"/>\n",
              "  </svg>\n",
              "    </button>\n",
              "\n",
              "  <style>\n",
              "    .colab-df-container {\n",
              "      display:flex;\n",
              "      gap: 12px;\n",
              "    }\n",
              "\n",
              "    .colab-df-convert {\n",
              "      background-color: #E8F0FE;\n",
              "      border: none;\n",
              "      border-radius: 50%;\n",
              "      cursor: pointer;\n",
              "      display: none;\n",
              "      fill: #1967D2;\n",
              "      height: 32px;\n",
              "      padding: 0 0 0 0;\n",
              "      width: 32px;\n",
              "    }\n",
              "\n",
              "    .colab-df-convert:hover {\n",
              "      background-color: #E2EBFA;\n",
              "      box-shadow: 0px 1px 2px rgba(60, 64, 67, 0.3), 0px 1px 3px 1px rgba(60, 64, 67, 0.15);\n",
              "      fill: #174EA6;\n",
              "    }\n",
              "\n",
              "    .colab-df-buttons div {\n",
              "      margin-bottom: 4px;\n",
              "    }\n",
              "\n",
              "    [theme=dark] .colab-df-convert {\n",
              "      background-color: #3B4455;\n",
              "      fill: #D2E3FC;\n",
              "    }\n",
              "\n",
              "    [theme=dark] .colab-df-convert:hover {\n",
              "      background-color: #434B5C;\n",
              "      box-shadow: 0px 1px 3px 1px rgba(0, 0, 0, 0.15);\n",
              "      filter: drop-shadow(0px 1px 2px rgba(0, 0, 0, 0.3));\n",
              "      fill: #FFFFFF;\n",
              "    }\n",
              "  </style>\n",
              "\n",
              "    <script>\n",
              "      const buttonEl =\n",
              "        document.querySelector('#df-a43ef176-ac39-4a6b-8e4b-dd34e70a3549 button.colab-df-convert');\n",
              "      buttonEl.style.display =\n",
              "        google.colab.kernel.accessAllowed ? 'block' : 'none';\n",
              "\n",
              "      async function convertToInteractive(key) {\n",
              "        const element = document.querySelector('#df-a43ef176-ac39-4a6b-8e4b-dd34e70a3549');\n",
              "        const dataTable =\n",
              "          await google.colab.kernel.invokeFunction('convertToInteractive',\n",
              "                                                    [key], {});\n",
              "        if (!dataTable) return;\n",
              "\n",
              "        const docLinkHtml = 'Like what you see? Visit the ' +\n",
              "          '<a target=\"_blank\" href=https://colab.research.google.com/notebooks/data_table.ipynb>data table notebook</a>'\n",
              "          + ' to learn more about interactive tables.';\n",
              "        element.innerHTML = '';\n",
              "        dataTable['output_type'] = 'display_data';\n",
              "        await google.colab.output.renderOutput(dataTable, element);\n",
              "        const docLink = document.createElement('div');\n",
              "        docLink.innerHTML = docLinkHtml;\n",
              "        element.appendChild(docLink);\n",
              "      }\n",
              "    </script>\n",
              "  </div>\n",
              "\n",
              "\n",
              "<div id=\"df-4a0b1b0a-b816-4bf8-968e-4ec13eff825d\">\n",
              "  <button class=\"colab-df-quickchart\" onclick=\"quickchart('df-4a0b1b0a-b816-4bf8-968e-4ec13eff825d')\"\n",
              "            title=\"Suggest charts\"\n",
              "            style=\"display:none;\">\n",
              "\n",
              "<svg xmlns=\"http://www.w3.org/2000/svg\" height=\"24px\"viewBox=\"0 0 24 24\"\n",
              "     width=\"24px\">\n",
              "    <g>\n",
              "        <path d=\"M19 3H5c-1.1 0-2 .9-2 2v14c0 1.1.9 2 2 2h14c1.1 0 2-.9 2-2V5c0-1.1-.9-2-2-2zM9 17H7v-7h2v7zm4 0h-2V7h2v10zm4 0h-2v-4h2v4z\"/>\n",
              "    </g>\n",
              "</svg>\n",
              "  </button>\n",
              "\n",
              "<style>\n",
              "  .colab-df-quickchart {\n",
              "      --bg-color: #E8F0FE;\n",
              "      --fill-color: #1967D2;\n",
              "      --hover-bg-color: #E2EBFA;\n",
              "      --hover-fill-color: #174EA6;\n",
              "      --disabled-fill-color: #AAA;\n",
              "      --disabled-bg-color: #DDD;\n",
              "  }\n",
              "\n",
              "  [theme=dark] .colab-df-quickchart {\n",
              "      --bg-color: #3B4455;\n",
              "      --fill-color: #D2E3FC;\n",
              "      --hover-bg-color: #434B5C;\n",
              "      --hover-fill-color: #FFFFFF;\n",
              "      --disabled-bg-color: #3B4455;\n",
              "      --disabled-fill-color: #666;\n",
              "  }\n",
              "\n",
              "  .colab-df-quickchart {\n",
              "    background-color: var(--bg-color);\n",
              "    border: none;\n",
              "    border-radius: 50%;\n",
              "    cursor: pointer;\n",
              "    display: none;\n",
              "    fill: var(--fill-color);\n",
              "    height: 32px;\n",
              "    padding: 0;\n",
              "    width: 32px;\n",
              "  }\n",
              "\n",
              "  .colab-df-quickchart:hover {\n",
              "    background-color: var(--hover-bg-color);\n",
              "    box-shadow: 0 1px 2px rgba(60, 64, 67, 0.3), 0 1px 3px 1px rgba(60, 64, 67, 0.15);\n",
              "    fill: var(--button-hover-fill-color);\n",
              "  }\n",
              "\n",
              "  .colab-df-quickchart-complete:disabled,\n",
              "  .colab-df-quickchart-complete:disabled:hover {\n",
              "    background-color: var(--disabled-bg-color);\n",
              "    fill: var(--disabled-fill-color);\n",
              "    box-shadow: none;\n",
              "  }\n",
              "\n",
              "  .colab-df-spinner {\n",
              "    border: 2px solid var(--fill-color);\n",
              "    border-color: transparent;\n",
              "    border-bottom-color: var(--fill-color);\n",
              "    animation:\n",
              "      spin 1s steps(1) infinite;\n",
              "  }\n",
              "\n",
              "  @keyframes spin {\n",
              "    0% {\n",
              "      border-color: transparent;\n",
              "      border-bottom-color: var(--fill-color);\n",
              "      border-left-color: var(--fill-color);\n",
              "    }\n",
              "    20% {\n",
              "      border-color: transparent;\n",
              "      border-left-color: var(--fill-color);\n",
              "      border-top-color: var(--fill-color);\n",
              "    }\n",
              "    30% {\n",
              "      border-color: transparent;\n",
              "      border-left-color: var(--fill-color);\n",
              "      border-top-color: var(--fill-color);\n",
              "      border-right-color: var(--fill-color);\n",
              "    }\n",
              "    40% {\n",
              "      border-color: transparent;\n",
              "      border-right-color: var(--fill-color);\n",
              "      border-top-color: var(--fill-color);\n",
              "    }\n",
              "    60% {\n",
              "      border-color: transparent;\n",
              "      border-right-color: var(--fill-color);\n",
              "    }\n",
              "    80% {\n",
              "      border-color: transparent;\n",
              "      border-right-color: var(--fill-color);\n",
              "      border-bottom-color: var(--fill-color);\n",
              "    }\n",
              "    90% {\n",
              "      border-color: transparent;\n",
              "      border-bottom-color: var(--fill-color);\n",
              "    }\n",
              "  }\n",
              "</style>\n",
              "\n",
              "  <script>\n",
              "    async function quickchart(key) {\n",
              "      const quickchartButtonEl =\n",
              "        document.querySelector('#' + key + ' button');\n",
              "      quickchartButtonEl.disabled = true;  // To prevent multiple clicks.\n",
              "      quickchartButtonEl.classList.add('colab-df-spinner');\n",
              "      try {\n",
              "        const charts = await google.colab.kernel.invokeFunction(\n",
              "            'suggestCharts', [key], {});\n",
              "      } catch (error) {\n",
              "        console.error('Error during call to suggestCharts:', error);\n",
              "      }\n",
              "      quickchartButtonEl.classList.remove('colab-df-spinner');\n",
              "      quickchartButtonEl.classList.add('colab-df-quickchart-complete');\n",
              "    }\n",
              "    (() => {\n",
              "      let quickchartButtonEl =\n",
              "        document.querySelector('#df-4a0b1b0a-b816-4bf8-968e-4ec13eff825d button');\n",
              "      quickchartButtonEl.style.display =\n",
              "        google.colab.kernel.accessAllowed ? 'block' : 'none';\n",
              "    })();\n",
              "  </script>\n",
              "</div>\n",
              "\n",
              "    </div>\n",
              "  </div>\n"
            ],
            "application/vnd.google.colaboratory.intrinsic+json": {
              "type": "dataframe",
              "variable_name": "df1",
              "repr_error": "0"
            }
          },
          "metadata": {},
          "execution_count": 15
        }
      ]
    },
    {
      "cell_type": "code",
      "source": [
        "#Filling missing values\n",
        "df[['reason_start', 'reason_end']] = df[['reason_start', 'reason_end']].fillna('unknown')"
      ],
      "metadata": {
        "id": "F_zPYADOirK1"
      },
      "execution_count": 16,
      "outputs": []
    },
    {
      "cell_type": "code",
      "source": [
        "\n",
        "#df.info()"
      ],
      "metadata": {
        "id": "GOiOgxp6kCCC"
      },
      "execution_count": 147,
      "outputs": []
    },
    {
      "cell_type": "code",
      "source": [
        "df['platform'].unique()"
      ],
      "metadata": {
        "colab": {
          "base_uri": "https://localhost:8080/"
        },
        "id": "EVmP95TGl57T",
        "outputId": "4f29e0e7-722f-478c-d44b-dcb3e2c65e19"
      },
      "execution_count": 18,
      "outputs": [
        {
          "output_type": "execute_result",
          "data": {
            "text/plain": [
              "array(['web player', 'windows', 'android', 'iOS', 'cast to device', 'mac'],\n",
              "      dtype=object)"
            ]
          },
          "metadata": {},
          "execution_count": 18
        }
      ]
    },
    {
      "cell_type": "code",
      "source": [
        "df['reason_start'].unique()"
      ],
      "metadata": {
        "colab": {
          "base_uri": "https://localhost:8080/"
        },
        "id": "BUFf4o4Cm3VO",
        "outputId": "525ad4a9-a8d6-4b53-b3b6-9805bec4302b"
      },
      "execution_count": 19,
      "outputs": [
        {
          "output_type": "execute_result",
          "data": {
            "text/plain": [
              "array(['autoplay', 'clickrow', 'trackdone', 'nextbtn', 'backbtn',\n",
              "       'unknown', 'popup', 'appload', 'fwdbtn', 'trackerror', 'remote',\n",
              "       'endplay', 'playbtn'], dtype=object)"
            ]
          },
          "metadata": {},
          "execution_count": 19
        }
      ]
    },
    {
      "cell_type": "code",
      "source": [
        "df['reason_end'].unique()"
      ],
      "metadata": {
        "colab": {
          "base_uri": "https://localhost:8080/"
        },
        "id": "kIugBaqxndpv",
        "outputId": "239bc9ad-ad80-41a3-b7f4-de5ebf879c68"
      },
      "execution_count": 20,
      "outputs": [
        {
          "output_type": "execute_result",
          "data": {
            "text/plain": [
              "array(['clickrow', 'unknown', 'nextbtn', 'trackdone', 'backbtn', 'reload',\n",
              "       'popup', 'endplay', 'fwdbtn', 'appload',\n",
              "       'unexpected-exit-while-paused', 'unexpected-exit', 'logout',\n",
              "       'remote', 'trackerror'], dtype=object)"
            ]
          },
          "metadata": {},
          "execution_count": 20
        }
      ]
    },
    {
      "cell_type": "code",
      "source": [
        "#Cleaning up redunduncies and proper grouping\n",
        "df[['reason_start', 'reason_end']] = df[['reason_start', 'reason_end']].replace('Unknown', 'unknown')"
      ],
      "metadata": {
        "id": "sWz7LLFwnl8h"
      },
      "execution_count": 21,
      "outputs": []
    },
    {
      "cell_type": "code",
      "source": [
        "#df.head()"
      ],
      "metadata": {
        "id": "D68erdSuppXy"
      },
      "execution_count": 148,
      "outputs": []
    },
    {
      "cell_type": "code",
      "source": [
        "#Cleaning up extra whitespaces and formatting the text to standard title format\n",
        "df['album_name'] = df['album_name'].str.strip().str.title()  # Remove whitespace Convert to title case\n",
        "df['album_name'].nunique()"
      ],
      "metadata": {
        "colab": {
          "base_uri": "https://localhost:8080/"
        },
        "id": "veE2MnMMpvUn",
        "outputId": "9d0b6f4e-6bc4-43e5-822b-2e82e69ffd09"
      },
      "execution_count": 23,
      "outputs": [
        {
          "output_type": "execute_result",
          "data": {
            "text/plain": [
              "7907"
            ]
          },
          "metadata": {},
          "execution_count": 23
        }
      ]
    },
    {
      "cell_type": "code",
      "source": [
        "df['artist_name'] = df['artist_name'].str.strip().str.title()  # Remove whitespace and convert to title case\n",
        "df['artist_name'].nunique()"
      ],
      "metadata": {
        "colab": {
          "base_uri": "https://localhost:8080/"
        },
        "id": "3oHEaDV_r-Vr",
        "outputId": "48daa679-6a6c-48c3-ff26-6f9016568a6a"
      },
      "execution_count": 24,
      "outputs": [
        {
          "output_type": "execute_result",
          "data": {
            "text/plain": [
              "4112"
            ]
          },
          "metadata": {},
          "execution_count": 24
        }
      ]
    },
    {
      "cell_type": "code",
      "source": [
        "df['track_name'] = df['track_name'].str.strip().str.title()  # Convert to title case\n",
        "df['track_name'].nunique()"
      ],
      "metadata": {
        "colab": {
          "base_uri": "https://localhost:8080/"
        },
        "id": "cMc6kRe9sNrY",
        "outputId": "d4785452-c844-4397-facf-c2b60dd5cd5d"
      },
      "execution_count": 25,
      "outputs": [
        {
          "output_type": "execute_result",
          "data": {
            "text/plain": [
              "13665"
            ]
          },
          "metadata": {},
          "execution_count": 25
        }
      ]
    },
    {
      "cell_type": "code",
      "source": [
        "#df[df.duplicated].count()\n"
      ],
      "metadata": {
        "id": "qgLW0k8FuAiq"
      },
      "execution_count": 146,
      "outputs": []
    },
    {
      "cell_type": "markdown",
      "source": [
        "# Analytics\n",
        "# Drawing Insights From Spotify Over The Years\n",
        "Questions to ask?\n",
        "\n",
        "1. Most used platform for playing Spotify?\n",
        "2. Most played track?\n",
        "3. Famous artist?\n",
        "4. Popular album?\n",
        "5. Most skipped track?\n",
        "6. Most shuffled track?\n",
        "7. Most common reason to start playing a track?\n",
        "8. Most common reason to stop playing a track?\n",
        "9. Preferred time to play music?\n",
        "10. Month with highest playtime?\n",
        "11. Year with highest playtime?\n",
        "12. Popular day in a week to play music?\n",
        "\n",
        "-->Trend over the years, months, days of a week ->visualisations using matplotlib\n",
        "\n",
        "\n",
        "\n",
        "\n",
        "\n"
      ],
      "metadata": {
        "id": "uIN_hGGlAHJi"
      }
    },
    {
      "cell_type": "code",
      "source": [
        "#Most used platform for playing Spotify\n",
        "df['platform'].value_counts()"
      ],
      "metadata": {
        "colab": {
          "base_uri": "https://localhost:8080/",
          "height": 303
        },
        "id": "Lii3GR1p_KST",
        "outputId": "a1927a17-a19d-4d86-9bad-58ae43a93c3b"
      },
      "execution_count": 132,
      "outputs": [
        {
          "output_type": "execute_result",
          "data": {
            "text/plain": [
              "platform\n",
              "android           139562\n",
              "iOS                 3049\n",
              "cast to device      3015\n",
              "windows             1691\n",
              "mac                 1176\n",
              "web player           182\n",
              "Name: count, dtype: int64"
            ],
            "text/html": [
              "<div>\n",
              "<style scoped>\n",
              "    .dataframe tbody tr th:only-of-type {\n",
              "        vertical-align: middle;\n",
              "    }\n",
              "\n",
              "    .dataframe tbody tr th {\n",
              "        vertical-align: top;\n",
              "    }\n",
              "\n",
              "    .dataframe thead th {\n",
              "        text-align: right;\n",
              "    }\n",
              "</style>\n",
              "<table border=\"1\" class=\"dataframe\">\n",
              "  <thead>\n",
              "    <tr style=\"text-align: right;\">\n",
              "      <th></th>\n",
              "      <th>count</th>\n",
              "    </tr>\n",
              "    <tr>\n",
              "      <th>platform</th>\n",
              "      <th></th>\n",
              "    </tr>\n",
              "  </thead>\n",
              "  <tbody>\n",
              "    <tr>\n",
              "      <th>android</th>\n",
              "      <td>139562</td>\n",
              "    </tr>\n",
              "    <tr>\n",
              "      <th>iOS</th>\n",
              "      <td>3049</td>\n",
              "    </tr>\n",
              "    <tr>\n",
              "      <th>cast to device</th>\n",
              "      <td>3015</td>\n",
              "    </tr>\n",
              "    <tr>\n",
              "      <th>windows</th>\n",
              "      <td>1691</td>\n",
              "    </tr>\n",
              "    <tr>\n",
              "      <th>mac</th>\n",
              "      <td>1176</td>\n",
              "    </tr>\n",
              "    <tr>\n",
              "      <th>web player</th>\n",
              "      <td>182</td>\n",
              "    </tr>\n",
              "  </tbody>\n",
              "</table>\n",
              "</div><br><label><b>dtype:</b> int64</label>"
            ]
          },
          "metadata": {},
          "execution_count": 132
        }
      ]
    },
    {
      "cell_type": "code",
      "source": [
        "#Visualization in matplotlib\n",
        "#plt.pie(df['platform'].value_counts(), labels=df['platform'].value_counts().index, autopct='%1.1f%%')"
      ],
      "metadata": {
        "id": "5ds10QMPRc_Q"
      },
      "execution_count": 247,
      "outputs": []
    },
    {
      "cell_type": "markdown",
      "source": [
        "**Insights**:\n",
        "\n",
        "Most used platform to play spotify track is *Android* with around 94% user base\n",
        "\n",
        "Least used platform is *web player*"
      ],
      "metadata": {
        "id": "No91k9m2BdlS"
      }
    },
    {
      "cell_type": "code",
      "source": [
        "#Most common reason for start playing a track\n",
        "df['reason_start'].value_counts().idxmax()"
      ],
      "metadata": {
        "colab": {
          "base_uri": "https://localhost:8080/",
          "height": 36
        },
        "id": "dQsHuXwjGgl9",
        "outputId": "314a1354-f38c-4772-8c7a-1787f250ddcc"
      },
      "execution_count": 135,
      "outputs": [
        {
          "output_type": "execute_result",
          "data": {
            "text/plain": [
              "'trackdone'"
            ],
            "application/vnd.google.colaboratory.intrinsic+json": {
              "type": "string"
            }
          },
          "metadata": {},
          "execution_count": 135
        }
      ]
    },
    {
      "cell_type": "code",
      "source": [
        "#Most Common Reason to Stop Playing a Track\n",
        "df['reason_end'].value_counts().idxmax()"
      ],
      "metadata": {
        "colab": {
          "base_uri": "https://localhost:8080/",
          "height": 36
        },
        "id": "MewUpRlmGmd6",
        "outputId": "a455ee08-a580-4f65-f3c9-601a95c587cb"
      },
      "execution_count": 136,
      "outputs": [
        {
          "output_type": "execute_result",
          "data": {
            "text/plain": [
              "'trackdone'"
            ],
            "application/vnd.google.colaboratory.intrinsic+json": {
              "type": "string"
            }
          },
          "metadata": {},
          "execution_count": 136
        }
      ]
    },
    {
      "cell_type": "markdown",
      "source": [
        "**Insights**\n",
        "\n",
        "Main reason for both starting and ending the song track is \"***trackdone\"***"
      ],
      "metadata": {
        "id": "6DnuGEmQTaPe"
      }
    },
    {
      "cell_type": "markdown",
      "source": [
        "# Feature Engineering\n",
        "\n",
        "**Creating new columns**\n",
        "\n",
        "1. minutes_played is created by converting milliseconds into minutes for convenience.\n",
        "\n",
        "2. Converted ts into datetime and extracted year, month, day_name and time_period information for drawing better insights.\n",
        "\n",
        "3. Grouped the hours of a day into 4 groups namely morning, afternoon, evening, late night to better user user preferences."
      ],
      "metadata": {
        "id": "obh4ioJUf-c1"
      }
    },
    {
      "cell_type": "code",
      "source": [
        "#Creating a new column named minutes_played by converting ms_played into minutes\n",
        "df['minutes_played'] = df['ms_played'] / 60000"
      ],
      "metadata": {
        "id": "Y8QGQbEYGuTU"
      },
      "execution_count": 33,
      "outputs": []
    },
    {
      "cell_type": "code",
      "source": [
        "#df.head()"
      ],
      "metadata": {
        "id": "FXKaiH8eHS1V"
      },
      "execution_count": 152,
      "outputs": []
    },
    {
      "cell_type": "code",
      "source": [
        "# Ensure the 'ts' column is in datetime format\n",
        "df['ts'] = pd.to_datetime(df['ts'])"
      ],
      "metadata": {
        "id": "wDza21aMBxTe"
      },
      "execution_count": 35,
      "outputs": []
    },
    {
      "cell_type": "code",
      "source": [
        "df['year'] = df['ts'].dt.year\n",
        "df['month'] = df['ts'].dt.month\n",
        "df['day'] = df['ts'].dt.day\n",
        "df['day_of_week'] = df['ts'].dt.day_name()\n",
        "\n"
      ],
      "metadata": {
        "id": "3hWxfjkiIdCN"
      },
      "execution_count": 36,
      "outputs": []
    },
    {
      "cell_type": "code",
      "source": [
        "# Extract the hour from the timestamp\n",
        "df['hour'] = df['ts'].dt.hour\n",
        "\n",
        "# Define a function to classify the hour\n",
        "def classify_time(hour):\n",
        "    if 5 <= hour < 12:\n",
        "        return 'Morning'\n",
        "    elif 12 <= hour < 17:\n",
        "        return 'Afternoon'\n",
        "    elif 17 <= hour < 21:\n",
        "        return 'Evening'\n",
        "    else:\n",
        "        return 'Late Night'\n",
        "\n",
        "# Apply the function to create a new column\n",
        "df['time_period'] = df['hour'].apply(classify_time)\n",
        "\n",
        "# Drop the 'hour' column and day column-no longer needed\n",
        "df.drop(columns=['hour', 'day'], inplace=True)\n"
      ],
      "metadata": {
        "id": "TsAnmtx1LWe2"
      },
      "execution_count": 37,
      "outputs": []
    },
    {
      "cell_type": "code",
      "source": [
        "#Most Played Track\n",
        "df.groupby('track_name')['minutes_played'].sum().sort_values(ascending=False).idxmax()"
      ],
      "metadata": {
        "colab": {
          "base_uri": "https://localhost:8080/",
          "height": 36
        },
        "id": "MFX7Pwr3MSxC",
        "outputId": "273462ec-a00a-4f8e-844f-b5575f0a5dfe"
      },
      "execution_count": 126,
      "outputs": [
        {
          "output_type": "execute_result",
          "data": {
            "text/plain": [
              "'Ode To The Mets'"
            ],
            "application/vnd.google.colaboratory.intrinsic+json": {
              "type": "string"
            }
          },
          "metadata": {},
          "execution_count": 126
        }
      ]
    },
    {
      "cell_type": "markdown",
      "source": [
        "**Insights**\n",
        "\n",
        "Most popular track is ***\"Ode To The Mets\"***"
      ],
      "metadata": {
        "id": "G8i9oVn5Uv-q"
      }
    },
    {
      "cell_type": "code",
      "source": [
        "#Famous Artist\n",
        "df.groupby('artist_name')['minutes_played'].sum().sort_values(ascending=False).idxmax()"
      ],
      "metadata": {
        "colab": {
          "base_uri": "https://localhost:8080/",
          "height": 36
        },
        "id": "jDDkfiGPVN2i",
        "outputId": "d8a7c5a6-9c70-447f-e828-9ab4a4fcf4b8"
      },
      "execution_count": 128,
      "outputs": [
        {
          "output_type": "execute_result",
          "data": {
            "text/plain": [
              "'The Beatles'"
            ],
            "application/vnd.google.colaboratory.intrinsic+json": {
              "type": "string"
            }
          },
          "metadata": {},
          "execution_count": 128
        }
      ]
    },
    {
      "cell_type": "markdown",
      "source": [
        "**Insights**\n",
        "\n",
        "Most popular artist is \"**The Beatles**\"\n"
      ],
      "metadata": {
        "id": "ecby5dnlWVwm"
      }
    },
    {
      "cell_type": "code",
      "source": [
        "#Popular Album\n",
        "df.groupby('album_name')['minutes_played'].sum().sort_values(ascending=False).idxmax()"
      ],
      "metadata": {
        "colab": {
          "base_uri": "https://localhost:8080/",
          "height": 36
        },
        "id": "dl0QSNroWi_i",
        "outputId": "d5031dca-e5ac-4ef2-8d21-53aa959779ae"
      },
      "execution_count": 131,
      "outputs": [
        {
          "output_type": "execute_result",
          "data": {
            "text/plain": [
              "'The Beatles'"
            ],
            "application/vnd.google.colaboratory.intrinsic+json": {
              "type": "string"
            }
          },
          "metadata": {},
          "execution_count": 131
        }
      ]
    },
    {
      "cell_type": "markdown",
      "source": [
        "**Insights**\n",
        "\n",
        "Most played album is ** The Beatles**.\n"
      ],
      "metadata": {
        "id": "pfnfaAniXX3A"
      }
    },
    {
      "cell_type": "code",
      "source": [
        "#Most Skipped Track\n",
        "# Group by 'track_name' and sum the boolean column to count 'True' values\n",
        "#df.groupby('track_name')['skipped'].sum().sort_values(ascending=False)"
      ],
      "metadata": {
        "id": "K-iJ_wlpfp35"
      },
      "execution_count": 109,
      "outputs": []
    },
    {
      "cell_type": "code",
      "source": [
        "df['track_name'][df['skipped'] == True].value_counts().idxmax()"
      ],
      "metadata": {
        "colab": {
          "base_uri": "https://localhost:8080/",
          "height": 36
        },
        "id": "3a80gCncgEPO",
        "outputId": "c8f9ca14-b2b4-4a58-fd0e-7eab1b4f8f27"
      },
      "execution_count": 110,
      "outputs": [
        {
          "output_type": "execute_result",
          "data": {
            "text/plain": [
              "'Paraíso'"
            ],
            "application/vnd.google.colaboratory.intrinsic+json": {
              "type": "string"
            }
          },
          "metadata": {},
          "execution_count": 110
        }
      ]
    },
    {
      "cell_type": "code",
      "source": [
        "#Most shuffled track\n",
        "df['track_name'][df['shuffle'] == True].value_counts().idxmax()"
      ],
      "metadata": {
        "colab": {
          "base_uri": "https://localhost:8080/",
          "height": 36
        },
        "id": "LTGT5YzPjLkP",
        "outputId": "5eec78b4-d6dc-4a11-be79-83a913e8f497"
      },
      "execution_count": 111,
      "outputs": [
        {
          "output_type": "execute_result",
          "data": {
            "text/plain": [
              "'In The Blood'"
            ],
            "application/vnd.google.colaboratory.intrinsic+json": {
              "type": "string"
            }
          },
          "metadata": {},
          "execution_count": 111
        }
      ]
    },
    {
      "cell_type": "markdown",
      "source": [
        "**Insights**\n",
        "\n",
        "Most skipped track on spotify is **\"Paraíso\"**.\n",
        "\n",
        "Most shuffled track on spotify is **\"In The Blood\"**."
      ],
      "metadata": {
        "id": "II5BSdiencsT"
      }
    },
    {
      "cell_type": "markdown",
      "source": [
        "# Trend over the years, months, days of week and preferred time of day"
      ],
      "metadata": {
        "id": "dwsSLTMIPnyL"
      }
    },
    {
      "cell_type": "code",
      "source": [
        "#month with highest playtime\n",
        "df.groupby('month')['minutes_played'].sum().idxmax()"
      ],
      "metadata": {
        "colab": {
          "base_uri": "https://localhost:8080/"
        },
        "id": "kUzlOIBn5lZ4",
        "outputId": "7bd2a545-8bc5-4cce-9344-51b25ee7fc19"
      },
      "execution_count": 92,
      "outputs": [
        {
          "output_type": "execute_result",
          "data": {
            "text/plain": [
              "10"
            ]
          },
          "metadata": {},
          "execution_count": 92
        }
      ]
    },
    {
      "cell_type": "code",
      "source": [
        "#Total Playtime Over the Months\n",
        "#trend over the months\n",
        "#Plotting\n",
        "df.groupby('month')['minutes_played'].sum().plot(kind='bar')\n",
        "plt.xlabel('Month')\n",
        "plt.ylabel('Minutes Played')\n",
        "plt.title('Total Playtime Over the Months')\n",
        "plt.legend().remove()\n",
        "plt.show()"
      ],
      "metadata": {
        "colab": {
          "base_uri": "https://localhost:8080/",
          "height": 475
        },
        "id": "ZAGXfMqaobUS",
        "outputId": "2bd6b53b-1f44-4e60-9c32-255336a5e2bd"
      },
      "execution_count": 94,
      "outputs": [
        {
          "output_type": "display_data",
          "data": {
            "text/plain": [
              "<Figure size 640x480 with 1 Axes>"
            ],
            "image/png": "[encoded data removed]"
          },
          "metadata": {}
        }
      ]
    },
    {
      "cell_type": "markdown",
      "source": [
        "**Insights**\n",
        "\n",
        "People tend to like music more in ***Fall season*** with ***October*** being the top and *September and August* stands next to it."
      ],
      "metadata": {
        "id": "0hMDiKQUiRAN"
      }
    },
    {
      "cell_type": "code",
      "source": [
        "#Most Preferred day to listen music\n",
        "df.groupby('day_of_week')['minutes_played'].sum().idxmax()"
      ],
      "metadata": {
        "colab": {
          "base_uri": "https://localhost:8080/",
          "height": 36
        },
        "id": "oTgOzVZ666AH",
        "outputId": "70a7ae60-434c-4de5-a43f-4af5702a697c"
      },
      "execution_count": 99,
      "outputs": [
        {
          "output_type": "execute_result",
          "data": {
            "text/plain": [
              "'Friday'"
            ],
            "application/vnd.google.colaboratory.intrinsic+json": {
              "type": "string"
            }
          },
          "metadata": {},
          "execution_count": 99
        }
      ]
    },
    {
      "cell_type": "code",
      "source": [
        "#Total Playtime over the Days of the Week\n",
        "#Plotting the trend\n",
        "df.groupby('day_of_week')['minutes_played'].sum().plot(kind='bar')\n",
        "plt.xlabel('Day of the week')\n",
        "plt.ylabel('Minutes Played')\n",
        "plt.title('Total Playtime Over the Days of the Week')\n",
        "plt.legend().remove()\n",
        "plt.show()"
      ],
      "metadata": {
        "colab": {
          "base_uri": "https://localhost:8080/",
          "height": 538
        },
        "id": "YrsMnK8ion4J",
        "outputId": "e062524b-9d36-44b5-fc5b-bfb3d7846caa"
      },
      "execution_count": 100,
      "outputs": [
        {
          "output_type": "display_data",
          "data": {
            "text/plain": [
              "<Figure size 640x480 with 1 Axes>"
            ],
            "image/png": "[encoded data removed]"
          },
          "metadata": {}
        }
      ]
    },
    {
      "cell_type": "code",
      "source": [
        "#Preferred Time to Play Music\n",
        "df[df['day_of_week'] == 'Friday'].groupby('time_period')['minutes_played'].sum().idxmax()"
      ],
      "metadata": {
        "colab": {
          "base_uri": "https://localhost:8080/",
          "height": 36
        },
        "id": "7qlmcTh98-kg",
        "outputId": "4c6338cf-9497-41ee-8a7a-a6a94b7f74a8"
      },
      "execution_count": 108,
      "outputs": [
        {
          "output_type": "execute_result",
          "data": {
            "text/plain": [
              "'Late Night'"
            ],
            "application/vnd.google.colaboratory.intrinsic+json": {
              "type": "string"
            }
          },
          "metadata": {},
          "execution_count": 108
        }
      ]
    },
    {
      "cell_type": "code",
      "source": [
        "#Preferred time of day to play music\n",
        "df.groupby('time_period')['minutes_played'].sum().idxmax()"
      ],
      "metadata": {
        "colab": {
          "base_uri": "https://localhost:8080/",
          "height": 36
        },
        "id": "YsSKlNqabQUe",
        "outputId": "e36d0342-e381-40c8-9786-c19bb970ae4b"
      },
      "execution_count": 103,
      "outputs": [
        {
          "output_type": "execute_result",
          "data": {
            "text/plain": [
              "'Late Night'"
            ],
            "application/vnd.google.colaboratory.intrinsic+json": {
              "type": "string"
            }
          },
          "metadata": {},
          "execution_count": 103
        }
      ]
    },
    {
      "cell_type": "code",
      "source": [
        "#Total Playtime over the Days of the Week\n",
        "#Plotting the trend\n",
        "df.groupby('time_period')['minutes_played'].sum().plot(kind='bar')\n",
        "plt.xlabel('Time Period')\n",
        "plt.ylabel('Minutes Played')\n",
        "plt.title('Total Playtime Over Time Period Of Day')\n",
        "plt.legend().remove()\n",
        "plt.show()"
      ],
      "metadata": {
        "colab": {
          "base_uri": "https://localhost:8080/",
          "height": 530
        },
        "outputId": "82b9787c-13c4-48ab-87bc-fdffcb62dac5",
        "id": "pbA3d1oo8ahI"
      },
      "execution_count": 101,
      "outputs": [
        {
          "output_type": "display_data",
          "data": {
            "text/plain": [
              "<Figure size 640x480 with 1 Axes>"
            ],
            "image/png": "[encoded data removed]"
          },
          "metadata": {}
        }
      ]
    },
    {
      "cell_type": "markdown",
      "source": [
        "**Insights**\n",
        "\n",
        "**Friday nights** are the indeed musical nights with highest play time recorded on end of work week - Late Nights of Friday.\n",
        "\n",
        "Also, in general people prefer to listen music on **late nights** post 9 pm."
      ],
      "metadata": {
        "id": "IYlxE4_NlU6v"
      }
    },
    {
      "cell_type": "code",
      "source": [
        "#Year With Highest Playtime\n",
        "df.groupby('year')['minutes_played'].sum().idxmax()"
      ],
      "metadata": {
        "colab": {
          "base_uri": "https://localhost:8080/"
        },
        "id": "uCHNlMWhbWJC",
        "outputId": "b89e20ac-b506-4b12-ade4-ae4718221540"
      },
      "execution_count": 89,
      "outputs": [
        {
          "output_type": "execute_result",
          "data": {
            "text/plain": [
              "2021"
            ]
          },
          "metadata": {},
          "execution_count": 89
        }
      ]
    },
    {
      "cell_type": "code",
      "source": [
        "#Sum, Average, min, max playtime in a day, month, year\n",
        "df.groupby('year').agg({'minutes_played': ['sum', 'mean', 'min', 'max']})\n",
        "#trend over the years\n",
        "df.groupby('year').agg({'minutes_played': ['sum']}).plot(kind='bar')\n",
        "plt.xlabel('Year')\n",
        "plt.ylabel('Minutes Played')\n",
        "plt.title('Total Playtime Over the Years')\n",
        "plt.legend().remove()\n",
        "plt.show()"
      ],
      "metadata": {
        "colab": {
          "base_uri": "https://localhost:8080/",
          "height": 493
        },
        "id": "JAPvhl4qjUgz",
        "outputId": "662f6d84-93b9-4e3d-cc84-b3884ef606f3"
      },
      "execution_count": null,
      "outputs": [
        {
          "output_type": "display_data",
          "data": {
            "text/plain": [
              "<Figure size 640x480 with 1 Axes>"
            ],
            "image/png": "[encoded data removed]"
          },
          "metadata": {}
        }
      ]
    },
    {
      "cell_type": "markdown",
      "source": [
        "**Insights**\n",
        "\n",
        "Year with most music runtine is 2021."
      ],
      "metadata": {
        "id": "9WM7Ir3YmlSF"
      }
    },
    {
      "cell_type": "markdown",
      "source": [
        "**Insights**\n",
        "\n",
        "Favourite play time over the years can be better understood with below visualisation - *Late Night* being the preferred choice *consistently* over the years."
      ],
      "metadata": {
        "id": "_HtJRIAkukqW"
      }
    },
    {
      "cell_type": "code",
      "source": [
        "#Favourite playtime over the years\n",
        "# Group data by year and time period, then count occurrences\n",
        "#Plotting\n",
        "df.groupby(['year', 'time_period']).size().unstack().plot(kind='bar', stacked=True, figsize=(10, 6), title='Favourite Playtime of the Day Over the Years')\n",
        "plt.xlabel('Year')\n",
        "plt.ylabel('Number of Plays')\n",
        "plt.xticks(rotation=0)  # Rotate x-axis labels for better readability\n",
        "plt.legend(title='Time Period')\n",
        "plt.tight_layout()  # Adjust layout to prevent labels from overlapping\n",
        "plt.show()"
      ],
      "metadata": {
        "colab": {
          "base_uri": "https://localhost:8080/",
          "height": 607
        },
        "id": "jXWjsS5vsVIS",
        "outputId": "0a5cd0df-933e-4357-ea8a-f43856263b17"
      },
      "execution_count": 53,
      "outputs": [
        {
          "output_type": "display_data",
          "data": {
            "text/plain": [
              "<Figure size 1000x600 with 1 Axes>"
            ],
            "image/png": "[encoded data removed]"
          },
          "metadata": {}
        }
      ]
    },
    {
      "cell_type": "markdown",
      "source": [
        "# Insights from Spotify 2013-2024\n",
        "\n",
        "1. Most used platform for playing Spotify is **\"Android\"**\n",
        "\n",
        "2. Most played track is **\"Ode To The Mets\"**\n",
        "\n",
        "3. Famous artist is **\"The Beatles\"**\n",
        "\n",
        "4. Popular album is **\"The Beatles\"**\n",
        "\n",
        "5. Most skipped track are **\"Paraíso\"**\n",
        "\n",
        "6. Most shuffled track is **\"In The Blood\"**\n",
        "\n",
        "7. Most common reason to start playing a track is **\"trackdone\"**.\n",
        "\n",
        "8. Most common reason to stop playing a track is **\"trackdone\"**.\n",
        "\n",
        "9. Popular day in a week to play music is **\"Friday\"**\n",
        "10. Preferred time to play music in a day is **\"Late Night\"**\n",
        "\n",
        "    **\"Friday Nights\"** are the most musical nights over the years.\n",
        "\n",
        "11. People tend to like music more in **\"Fall season\"** with **\"October\"** being the top and *September* and *August* stands next to it.\n",
        "12. Year with most music runtine is **\"2021\"**.\n",
        "\n",
        "--> **Trend** over the months, days of a week shown through matplot **Visualisations**.\n"
      ],
      "metadata": {
        "id": "zKkRT-4CU0vW"
      }
    },
    {
      "cell_type": "markdown",
      "source": [
        "# 2024 Spotify WrapUp"
      ],
      "metadata": {
        "id": "JCdJ1EHC4ttl"
      }
    },
    {
      "cell_type": "code",
      "source": [
        "#2024 highlights\n",
        "#Creating a temporary dataset for the year 2024\n",
        "df_2024 = df[df['year'] == 2024]\n",
        "df_2024.info()"
      ],
      "metadata": {
        "colab": {
          "base_uri": "https://localhost:8080/"
        },
        "id": "sg7Fhmvqj52m",
        "outputId": "71828893-3c12-404c-9c29-dcce26ae0be8"
      },
      "execution_count": 54,
      "outputs": [
        {
          "output_type": "stream",
          "name": "stdout",
          "text": [
            "<class 'pandas.core.frame.DataFrame'>\n",
            "Index: 9870 entries, 139990 to 149859\n",
            "Data columns (total 16 columns):\n",
            " #   Column             Non-Null Count  Dtype         \n",
            "---  ------             --------------  -----         \n",
            " 0   spotify_track_uri  9870 non-null   object        \n",
            " 1   ts                 9870 non-null   datetime64[ns]\n",
            " 2   platform           9870 non-null   object        \n",
            " 3   ms_played          9870 non-null   int64         \n",
            " 4   track_name         9870 non-null   object        \n",
            " 5   artist_name        9870 non-null   object        \n",
            " 6   album_name         9870 non-null   object        \n",
            " 7   reason_start       9870 non-null   object        \n",
            " 8   reason_end         9870 non-null   object        \n",
            " 9   shuffle            9870 non-null   bool          \n",
            " 10  skipped            9870 non-null   bool          \n",
            " 11  minutes_played     9870 non-null   float64       \n",
            " 12  year               9870 non-null   int32         \n",
            " 13  month              9870 non-null   int32         \n",
            " 14  day_of_week        9870 non-null   object        \n",
            " 15  time_period        9870 non-null   object        \n",
            "dtypes: bool(2), datetime64[ns](1), float64(1), int32(2), int64(1), object(9)\n",
            "memory usage: 1.1+ MB\n"
          ]
        }
      ]
    },
    {
      "cell_type": "markdown",
      "source": [
        "# Analytics\n",
        "\n",
        "# Drawing Insights from 2024\n",
        "\n",
        "Questions to ask?\n",
        "\n",
        "1. Most used platform for playing Spotify?\n",
        "2. Most played track in 2024?\n",
        "3. Famous artist in 2024?\n",
        "4. Popular album in 2024?\n",
        "5. Most skipped track?\n",
        "6. Most shuffled track?\n",
        "7. Most common reason for starting a track?\n",
        "8. Most common reason for ending a track?\n",
        "9. Preferred time to play music in a day?\n",
        "10. Month with highest playtime?\n",
        "11. Popular day in a week to play music?\n",
        "12. Trend over the months, days of a week"
      ],
      "metadata": {
        "id": "oniIoOGK5EHy"
      }
    },
    {
      "cell_type": "code",
      "source": [
        "#quick glance\n",
        "df_2024[['track_name', 'artist_name', 'album_name']].nunique()"
      ],
      "metadata": {
        "colab": {
          "base_uri": "https://localhost:8080/",
          "height": 178
        },
        "id": "2eiRIRcZtYWq",
        "outputId": "5167cff2-7057-4553-d364-5ac32223a2c8"
      },
      "execution_count": 76,
      "outputs": [
        {
          "output_type": "execute_result",
          "data": {
            "text/plain": [
              "track_name     3568\n",
              "artist_name    1071\n",
              "album_name     1824\n",
              "dtype: int64"
            ],
            "text/html": [
              "<div>\n",
              "<style scoped>\n",
              "    .dataframe tbody tr th:only-of-type {\n",
              "        vertical-align: middle;\n",
              "    }\n",
              "\n",
              "    .dataframe tbody tr th {\n",
              "        vertical-align: top;\n",
              "    }\n",
              "\n",
              "    .dataframe thead th {\n",
              "        text-align: right;\n",
              "    }\n",
              "</style>\n",
              "<table border=\"1\" class=\"dataframe\">\n",
              "  <thead>\n",
              "    <tr style=\"text-align: right;\">\n",
              "      <th></th>\n",
              "      <th>0</th>\n",
              "    </tr>\n",
              "  </thead>\n",
              "  <tbody>\n",
              "    <tr>\n",
              "      <th>track_name</th>\n",
              "      <td>3568</td>\n",
              "    </tr>\n",
              "    <tr>\n",
              "      <th>artist_name</th>\n",
              "      <td>1071</td>\n",
              "    </tr>\n",
              "    <tr>\n",
              "      <th>album_name</th>\n",
              "      <td>1824</td>\n",
              "    </tr>\n",
              "  </tbody>\n",
              "</table>\n",
              "</div><br><label><b>dtype:</b> int64</label>"
            ]
          },
          "metadata": {},
          "execution_count": 76
        }
      ]
    },
    {
      "cell_type": "code",
      "source": [
        "#1.Most used platform to play Spotify in 2024\n",
        "df_2024['platform'].value_counts()"
      ],
      "metadata": {
        "colab": {
          "base_uri": "https://localhost:8080/",
          "height": 178
        },
        "id": "AgqUnW8w61ON",
        "outputId": "f00f39b7-3e65-4b2a-aa3c-cdf59a1947ed"
      },
      "execution_count": 55,
      "outputs": [
        {
          "output_type": "execute_result",
          "data": {
            "text/plain": [
              "platform\n",
              "android    9480\n",
              "mac         390\n",
              "Name: count, dtype: int64"
            ],
            "text/html": [
              "<div>\n",
              "<style scoped>\n",
              "    .dataframe tbody tr th:only-of-type {\n",
              "        vertical-align: middle;\n",
              "    }\n",
              "\n",
              "    .dataframe tbody tr th {\n",
              "        vertical-align: top;\n",
              "    }\n",
              "\n",
              "    .dataframe thead th {\n",
              "        text-align: right;\n",
              "    }\n",
              "</style>\n",
              "<table border=\"1\" class=\"dataframe\">\n",
              "  <thead>\n",
              "    <tr style=\"text-align: right;\">\n",
              "      <th></th>\n",
              "      <th>count</th>\n",
              "    </tr>\n",
              "    <tr>\n",
              "      <th>platform</th>\n",
              "      <th></th>\n",
              "    </tr>\n",
              "  </thead>\n",
              "  <tbody>\n",
              "    <tr>\n",
              "      <th>android</th>\n",
              "      <td>9480</td>\n",
              "    </tr>\n",
              "    <tr>\n",
              "      <th>mac</th>\n",
              "      <td>390</td>\n",
              "    </tr>\n",
              "  </tbody>\n",
              "</table>\n",
              "</div><br><label><b>dtype:</b> int64</label>"
            ]
          },
          "metadata": {},
          "execution_count": 55
        }
      ]
    },
    {
      "cell_type": "code",
      "source": [
        "#2.Most played track in 2024\n",
        "df_2024.groupby('track_name')['minutes_played'].sum().sort_values(ascending=False).idxmax()"
      ],
      "metadata": {
        "colab": {
          "base_uri": "https://localhost:8080/",
          "height": 36
        },
        "id": "EbCCDpd_zAy2",
        "outputId": "37e7b54f-b55a-4b85-d697-126a20169bd9"
      },
      "execution_count": 137,
      "outputs": [
        {
          "output_type": "execute_result",
          "data": {
            "text/plain": [
              "'The Return Of The King (Feat. Sir James Galway, Viggo Mortensen And Renee Fleming)'"
            ],
            "application/vnd.google.colaboratory.intrinsic+json": {
              "type": "string"
            }
          },
          "metadata": {},
          "execution_count": 137
        }
      ]
    },
    {
      "cell_type": "code",
      "source": [
        "#3.Famous artist in 2024\n",
        "df_2024.groupby('artist_name')['minutes_played'].sum().sort_values(ascending=False).idxmax()"
      ],
      "metadata": {
        "colab": {
          "base_uri": "https://localhost:8080/",
          "height": 36
        },
        "id": "SBJXfy4GzUus",
        "outputId": "4ba43a53-9666-4035-d3d6-6f8a0fed398f"
      },
      "execution_count": 141,
      "outputs": [
        {
          "output_type": "execute_result",
          "data": {
            "text/plain": [
              "'John Mayer'"
            ],
            "application/vnd.google.colaboratory.intrinsic+json": {
              "type": "string"
            }
          },
          "metadata": {},
          "execution_count": 141
        }
      ]
    },
    {
      "cell_type": "code",
      "source": [
        "#4.Popular album in 2024\n",
        "df_2024.groupby('album_name')['minutes_played'].sum().sort_values(ascending=False).idxmax()"
      ],
      "metadata": {
        "colab": {
          "base_uri": "https://localhost:8080/",
          "height": 36
        },
        "id": "W9JPz-hGzc7m",
        "outputId": "9efc6782-3bb1-4c91-b5c4-f151ae974945"
      },
      "execution_count": 139,
      "outputs": [
        {
          "output_type": "execute_result",
          "data": {
            "text/plain": [
              "'Arrival'"
            ],
            "application/vnd.google.colaboratory.intrinsic+json": {
              "type": "string"
            }
          },
          "metadata": {},
          "execution_count": 139
        }
      ]
    },
    {
      "cell_type": "code",
      "source": [
        "#5.Most skipped track in 2024\n",
        "df_2024['track_name'][df_2024['skipped'] == True].value_counts().idxmax()"
      ],
      "metadata": {
        "colab": {
          "base_uri": "https://localhost:8080/",
          "height": 36
        },
        "id": "8aO6BwNR4RBX",
        "outputId": "54b177a0-933c-401e-aed6-dff2b1778d00"
      },
      "execution_count": 142,
      "outputs": [
        {
          "output_type": "execute_result",
          "data": {
            "text/plain": [
              "'Why Did It Have To Be Me?'"
            ],
            "application/vnd.google.colaboratory.intrinsic+json": {
              "type": "string"
            }
          },
          "metadata": {},
          "execution_count": 142
        }
      ]
    },
    {
      "cell_type": "code",
      "source": [
        "#6.Most shuffled track in 2024\n",
        "df_2024['track_name'][df_2024['shuffle'] == True].value_counts().idxmax()"
      ],
      "metadata": {
        "colab": {
          "base_uri": "https://localhost:8080/",
          "height": 36
        },
        "id": "K6aszyDg4g2X",
        "outputId": "f15871ee-573d-4f0d-a112-beb889401f5a"
      },
      "execution_count": 143,
      "outputs": [
        {
          "output_type": "execute_result",
          "data": {
            "text/plain": [
              "'Why Did It Have To Be Me?'"
            ],
            "application/vnd.google.colaboratory.intrinsic+json": {
              "type": "string"
            }
          },
          "metadata": {},
          "execution_count": 143
        }
      ]
    },
    {
      "cell_type": "code",
      "source": [
        "#Most common reason to start playing a track in 2024\n",
        "df_2024['reason_end'].value_counts().idxmax()"
      ],
      "metadata": {
        "colab": {
          "base_uri": "https://localhost:8080/",
          "height": 36
        },
        "id": "rltsn5INQlD0",
        "outputId": "0edd204a-ca3d-4e53-fe58-dc0b77359b8e"
      },
      "execution_count": 144,
      "outputs": [
        {
          "output_type": "execute_result",
          "data": {
            "text/plain": [
              "'trackdone'"
            ],
            "application/vnd.google.colaboratory.intrinsic+json": {
              "type": "string"
            }
          },
          "metadata": {},
          "execution_count": 144
        }
      ]
    },
    {
      "cell_type": "code",
      "source": [
        "#Most common reason to stop playing a track in 2024\n",
        "df_2024['reason_end'].value_counts().idxmax()"
      ],
      "metadata": {
        "colab": {
          "base_uri": "https://localhost:8080/",
          "height": 36
        },
        "id": "S9gtWfl1Q-76",
        "outputId": "904b216e-cd45-40f7-b176-d5e9f299603f"
      },
      "execution_count": 145,
      "outputs": [
        {
          "output_type": "execute_result",
          "data": {
            "text/plain": [
              "'trackdone'"
            ],
            "application/vnd.google.colaboratory.intrinsic+json": {
              "type": "string"
            }
          },
          "metadata": {},
          "execution_count": 145
        }
      ]
    },
    {
      "cell_type": "markdown",
      "source": [
        "# Trend Over The Months, Days Of Week, Time Period of Day"
      ],
      "metadata": {
        "id": "XHoaMqmzC3HH"
      }
    },
    {
      "cell_type": "code",
      "source": [
        "#Popular day in a week to play music\n",
        "df_2024.groupby('day_of_week')['minutes_played'].sum().idxmax()"
      ],
      "metadata": {
        "colab": {
          "base_uri": "https://localhost:8080/",
          "height": 36
        },
        "id": "bXUmbqTCznoF",
        "outputId": "8d97ce74-9b7c-4445-e516-b9fc70288d98"
      },
      "execution_count": 117,
      "outputs": [
        {
          "output_type": "execute_result",
          "data": {
            "text/plain": [
              "'Friday'"
            ],
            "application/vnd.google.colaboratory.intrinsic+json": {
              "type": "string"
            }
          },
          "metadata": {},
          "execution_count": 117
        }
      ]
    },
    {
      "cell_type": "code",
      "source": [
        "#Trend over the days of the week in 2024\n",
        "#Plotting\n",
        "df_2024.groupby('day_of_week')['minutes_played'].sum().plot(kind='bar')\n",
        "plt.xlabel('Day of the week')\n",
        "plt.ylabel('Minutes Played')\n",
        "plt.title('Total Playtime Over the Days of the Week In 2024')\n",
        "plt.legend().remove()\n",
        "plt.show()"
      ],
      "metadata": {
        "colab": {
          "base_uri": "https://localhost:8080/",
          "height": 538
        },
        "id": "8q0tK8kx01ZP",
        "outputId": "b37af155-ba80-4ce3-deeb-3a5e565c4aef"
      },
      "execution_count": 118,
      "outputs": [
        {
          "output_type": "display_data",
          "data": {
            "text/plain": [
              "<Figure size 640x480 with 1 Axes>"
            ],
            "image/png": "[encoded data removed]"
          },
          "metadata": {}
        }
      ]
    },
    {
      "cell_type": "code",
      "source": [
        "#Preferred time to play music in a day\n",
        "df_2024.groupby('time_period')['minutes_played'].sum().sort_values(ascending=False).idxmax()"
      ],
      "metadata": {
        "colab": {
          "base_uri": "https://localhost:8080/",
          "height": 36
        },
        "id": "vrpI7Ex9zt7Y",
        "outputId": "ee5c0730-5528-485b-8987-30a2ba68f615"
      },
      "execution_count": 115,
      "outputs": [
        {
          "output_type": "execute_result",
          "data": {
            "text/plain": [
              "'Late Night'"
            ],
            "application/vnd.google.colaboratory.intrinsic+json": {
              "type": "string"
            }
          },
          "metadata": {},
          "execution_count": 115
        }
      ]
    },
    {
      "cell_type": "code",
      "source": [
        "#Trend over timeperiod of the day in 2024\n",
        "#Plotting\n",
        "df_2024.groupby('time_period')['minutes_played'].sum().plot(kind='bar')\n",
        "plt.xlabel('TimePeriod Of The Day')\n",
        "plt.ylabel('Minutes Played')\n",
        "plt.title('Total Playtime Over TimePeriod Of The Day In 2024')\n",
        "plt.legend().remove()\n",
        "plt.show()"
      ],
      "metadata": {
        "colab": {
          "base_uri": "https://localhost:8080/",
          "height": 530
        },
        "id": "oZeTSdA11hSZ",
        "outputId": "65c3c100-a01c-448a-a222-f45d52470263"
      },
      "execution_count": 116,
      "outputs": [
        {
          "output_type": "display_data",
          "data": {
            "text/plain": [
              "<Figure size 640x480 with 1 Axes>"
            ],
            "image/png": "[encoded data removed]"
          },
          "metadata": {}
        }
      ]
    },
    {
      "cell_type": "code",
      "source": [
        "#Month with highest playtime in 2024\n",
        "df_2024.groupby('month')['minutes_played'].sum().sort_values(ascending=False).idxmax()"
      ],
      "metadata": {
        "colab": {
          "base_uri": "https://localhost:8080/"
        },
        "id": "sv3ZCQ5bCXjU",
        "outputId": "8f25508b-8f9d-43cd-9298-f81377717247"
      },
      "execution_count": 121,
      "outputs": [
        {
          "output_type": "execute_result",
          "data": {
            "text/plain": [
              "1"
            ]
          },
          "metadata": {},
          "execution_count": 121
        }
      ]
    },
    {
      "cell_type": "code",
      "source": [
        "#Trend over the months in 2024\n",
        "#Plotting\n",
        "df_2024.groupby('month')['minutes_played'].sum().plot(kind='bar')\n",
        "plt.xlabel('Month')\n",
        "plt.ylabel('Minutes Played')\n",
        "plt.title('Total Playtime Over the Months In 2024')\n",
        "plt.legend().remove()\n",
        "plt.show()"
      ],
      "metadata": {
        "colab": {
          "base_uri": "https://localhost:8080/",
          "height": 475
        },
        "id": "L03INceI0ED4",
        "outputId": "44e54793-267e-426b-c88a-24262ab20323"
      },
      "execution_count": 122,
      "outputs": [
        {
          "output_type": "display_data",
          "data": {
            "text/plain": [
              "<Figure size 640x480 with 1 Axes>"
            ],
            "image/png": "[encoded data removed]"
          },
          "metadata": {}
        }
      ]
    },
    {
      "cell_type": "code",
      "source": [
        "#Favourite playtime over the months\n",
        "# Group data by month and time period, then count occurrences\n",
        "#Plotting\n",
        "df_2024.groupby(['month', 'time_period']).size().unstack().plot(kind='bar', stacked=True, figsize=(10, 6), title='Favourite Playtime of the Day Over the Months')\n",
        "plt.xlabel('Month')\n",
        "plt.ylabel('Number of Plays')\n",
        "plt.xticks(rotation=0)  # Rotate x-axis labels for better readability\n",
        "plt.legend(title='Time Period')\n",
        "plt.tight_layout()  # Adjust layout to prevent labels from overlapping\n",
        "plt.show()"
      ],
      "metadata": {
        "colab": {
          "base_uri": "https://localhost:8080/",
          "height": 607
        },
        "id": "wQ7N7qCt9WYI",
        "outputId": "105af791-8444-4cc6-8fa9-9e67c0239f7c"
      },
      "execution_count": 73,
      "outputs": [
        {
          "output_type": "display_data",
          "data": {
            "text/plain": [
              "<Figure size 1000x600 with 1 Axes>"
            ],
            "image/png": "[encoded data removed]"
          },
          "metadata": {}
        }
      ]
    },
    {
      "cell_type": "code",
      "source": [
        "#Favourite playtime over the days of a week\n",
        "# Group data by day of week and time period, then count occurrences\n",
        "#Plotting\n",
        "df_2024.groupby(['day_of_week', 'time_period']).size().unstack().plot(kind='bar', stacked=True, figsize=(10, 6))\n",
        "plt.title('Favourite Playtime of the Day')\n",
        "plt.xlabel('Day Of Week')\n",
        "plt.ylabel('Number of Plays')\n",
        "plt.xticks(rotation=0)  # Rotate x-axis labels for better readability\n",
        "plt.legend(title='Time Period')\n",
        "plt.tight_layout()  # Adjust layout to prevent labels from overlapping\n",
        "plt.show()"
      ],
      "metadata": {
        "colab": {
          "base_uri": "https://localhost:8080/",
          "height": 607
        },
        "id": "2SpnLBzr9qXq",
        "outputId": "a26e9da8-8180-4307-8604-f09b6a9ecdb1"
      },
      "execution_count": 74,
      "outputs": [
        {
          "output_type": "display_data",
          "data": {
            "text/plain": [
              "<Figure size 1000x600 with 1 Axes>"
            ],
            "image/png": "[encoded data removed]"
          },
          "metadata": {}
        }
      ]
    },
    {
      "cell_type": "code",
      "source": [
        "#Exporting the cleaned data to csv file for further visualisation in Power BI\n",
        "#df.to_csv('spotify(2013-2024).csv', index=False)\n",
        "#df_2024.to_csv('spotify2024.csv', index=False)"
      ],
      "metadata": {
        "id": "eFTEi4sOmZPU"
      },
      "execution_count": 75,
      "outputs": []
    },
    {
      "cell_type": "markdown",
      "source": [
        "# Insights from 2024\n",
        "\n",
        "1. Most used platform for playing Spotify is **\"Android\"**\n",
        "\n",
        "2. Most played track in 2024 is **\"The Return Of The King\"**\n",
        "\n",
        "3. Famous artist in 2024 is **\"John Mayer\"**\n",
        "\n",
        "4. Popular album in 2024 is **\"Arrival\"**\n",
        "\n",
        "5. Most skipped track are **\"Why Did It Have To Be Me?\"** and **\"Fernando\"**\n",
        "\n",
        "6. Most shuffled track is **\"Why Did It Have To Be Me?\"**\n",
        "\n",
        "7. Most common reason to start playing a track is **\"trackdone\"**.\n",
        "\n",
        "8. Most common reason to stop playing a track is **\"trackdone\"**.\n",
        "\n",
        "9. Popular day in a week to play music is **\"Friday\"**\n",
        "10. Preferred time to play music in a day is **\"Late Night\"**\n",
        "\n",
        "    **\"Friday Nights\"** are the most musical nights over the years.\n",
        "\n",
        "11. Month with highest playtime is **\"January\"**. **\"Fall season\"** stands next with *Oct, Nov* has next highest playtime.\n",
        "\n",
        "12. Trend over the months, days of a week shown through matplot **Visualisations**.\n"
      ],
      "metadata": {
        "id": "hgJkZ_ru-VRM"
      }
    }
  ]
}